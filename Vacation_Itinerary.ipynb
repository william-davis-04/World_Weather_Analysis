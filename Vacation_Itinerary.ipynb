{
 "cells": [
  {
   "cell_type": "code",
   "execution_count": 1,
   "metadata": {},
   "outputs": [],
   "source": [
    "#dependencies\n",
    "import pandas as pd \n",
    "import gmaps\n",
    "import gmaps.datasets\n",
    "import requests\n",
    "import numpy as np \n",
    "from config import g_key"
   ]
  },
  {
   "cell_type": "code",
   "execution_count": null,
   "metadata": {},
   "outputs": [],
   "source": []
  },
  {
   "cell_type": "code",
   "execution_count": 2,
   "metadata": {},
   "outputs": [],
   "source": [
    "vacationDF = pd.read_csv(\"weather_data/weatherPy_vacation.csv\")\n",
    "#clean up vacationDF\n",
    "vacationDF = vacationDF.drop(columns=[\"City_ID.1\",\"Humidity\", \"Cloudiness\", \"Wind Speed\", \"Rain (inches)\", \"Snow (inches)\"])\n",
    "#sort vacationDF to find cities that are close to one another for travel itinerary\n",
    "sortedDF = vacationDF.sort_values([\"Lat\", \"Lng\"])\n",
    "#configure gmaps to use my google api key\n",
    "gmaps.configure(api_key=g_key)"
   ]
  },
  {
   "cell_type": "code",
   "execution_count": 3,
   "metadata": {},
   "outputs": [],
   "source": [
    "#create dataFrames for cities that are close to one another. Chose cities close to each other in Brazil\n",
    "city1DF = sortedDF.loc[(sortedDF[\"City\"]==\"Anzio\")]\n",
    "city2DF = sortedDF.loc[(sortedDF[\"City\"]==\"Syracuse\")]\n",
    "city3DF = sortedDF.loc[(sortedDF[\"City\"]==\"Carbonia\")]\n",
    "city4DF = sortedDF.loc[(sortedDF[\"City\"]==\"Capaci\")]\n",
    "#get lat and lng pairs from each  dataframe as a tuple\n",
    "city1 = tuple(city1DF.to_numpy()[0][3:5])\n",
    "city2 = tuple(city2DF.to_numpy()[0][3:5])\n",
    "city3 = tuple(city3DF.to_numpy()[0][3:5])\n",
    "city4 = tuple(city4DF.to_numpy()[0][3:5])"
   ]
  },
  {
   "cell_type": "code",
   "execution_count": 4,
   "metadata": {},
   "outputs": [
    {
     "data": {
      "text/html": [
       "<div>\n",
       "<style scoped>\n",
       "    .dataframe tbody tr th:only-of-type {\n",
       "        vertical-align: middle;\n",
       "    }\n",
       "\n",
       "    .dataframe tbody tr th {\n",
       "        vertical-align: top;\n",
       "    }\n",
       "\n",
       "    .dataframe thead th {\n",
       "        text-align: right;\n",
       "    }\n",
       "</style>\n",
       "<table border=\"1\" class=\"dataframe\">\n",
       "  <thead>\n",
       "    <tr style=\"text-align: right;\">\n",
       "      <th></th>\n",
       "      <th>City_ID</th>\n",
       "      <th>City</th>\n",
       "      <th>Country</th>\n",
       "      <th>Lat</th>\n",
       "      <th>Lng</th>\n",
       "      <th>Max Temp</th>\n",
       "      <th>Current Description</th>\n",
       "      <th>Hotel Name</th>\n",
       "    </tr>\n",
       "  </thead>\n",
       "  <tbody>\n",
       "    <tr>\n",
       "      <th>91</th>\n",
       "      <td>338</td>\n",
       "      <td>Anzio</td>\n",
       "      <td>IT</td>\n",
       "      <td>41.49</td>\n",
       "      <td>12.62</td>\n",
       "      <td>60.01</td>\n",
       "      <td>overcast clouds</td>\n",
       "      <td>Hotel Lido Garda</td>\n",
       "    </tr>\n",
       "    <tr>\n",
       "      <th>115</th>\n",
       "      <td>411</td>\n",
       "      <td>Syracuse</td>\n",
       "      <td>IT</td>\n",
       "      <td>37.09</td>\n",
       "      <td>15.28</td>\n",
       "      <td>68.00</td>\n",
       "      <td>few clouds</td>\n",
       "      <td>Hotel Posta</td>\n",
       "    </tr>\n",
       "    <tr>\n",
       "      <th>121</th>\n",
       "      <td>429</td>\n",
       "      <td>Carbonia</td>\n",
       "      <td>IT</td>\n",
       "      <td>39.17</td>\n",
       "      <td>8.52</td>\n",
       "      <td>66.20</td>\n",
       "      <td>broken clouds</td>\n",
       "      <td>Lu 'Hotel</td>\n",
       "    </tr>\n",
       "    <tr>\n",
       "      <th>136</th>\n",
       "      <td>503</td>\n",
       "      <td>Capaci</td>\n",
       "      <td>IT</td>\n",
       "      <td>38.17</td>\n",
       "      <td>13.24</td>\n",
       "      <td>61.00</td>\n",
       "      <td>clear sky</td>\n",
       "      <td>Hotel Sirenetta</td>\n",
       "    </tr>\n",
       "  </tbody>\n",
       "</table>\n",
       "</div>"
      ],
      "text/plain": [
       "     City_ID      City Country    Lat    Lng  Max Temp Current Description  \\\n",
       "91       338     Anzio      IT  41.49  12.62     60.01     overcast clouds   \n",
       "115      411  Syracuse      IT  37.09  15.28     68.00          few clouds   \n",
       "121      429  Carbonia      IT  39.17   8.52     66.20       broken clouds   \n",
       "136      503    Capaci      IT  38.17  13.24     61.00           clear sky   \n",
       "\n",
       "           Hotel Name  \n",
       "91   Hotel Lido Garda  \n",
       "115       Hotel Posta  \n",
       "121         Lu 'Hotel  \n",
       "136   Hotel Sirenetta  "
      ]
     },
     "execution_count": 4,
     "metadata": {},
     "output_type": "execute_result"
    }
   ],
   "source": [
    "#create a new dataFrame containing the cities in our itinerary\n",
    "itineraryDF = pd.concat([city1DF,city2DF,city3DF,city4DF])\n",
    "itineraryDF"
   ]
  },
  {
   "cell_type": "code",
   "execution_count": 5,
   "metadata": {},
   "outputs": [],
   "source": [
    "\n",
    "#html info for textbox \n",
    "info_box_template = \"\"\"\n",
    "<dl>\n",
    "<dt>Hotel Name</dt><dd>{Hotel Name}</dd>\n",
    "<dt>City</dt><dd>{City}</dd>\n",
    "<dt>Country</dt><dd>{Country}</dd>\n",
    "<dt>Current Weather</dt><dd>{Current Description}</dd>\n",
    "<dt>Max Temp</dt><dd>{Max Temp}°F</dd>\n",
    "</dl>\n",
    "\"\"\"\n",
    "# Store the DataFrame Row.\n",
    "hotel_info = [info_box_template.format(**row) for index, row in itineraryDF.iterrows()]"
   ]
  },
  {
   "cell_type": "code",
   "execution_count": 6,
   "metadata": {},
   "outputs": [
    {
     "data": {
      "application/vnd.jupyter.widget-view+json": {
       "model_id": "de2a763e9e17400fbe82bcf976f2089a",
       "version_major": 2,
       "version_minor": 0
      },
      "text/plain": [
       "Figure(layout=FigureLayout(height='420px'))"
      ]
     },
     "metadata": {},
     "output_type": "display_data"
    }
   ],
   "source": [
    "# add a heatmap of temp for vacation spots\n",
    "#use itineraryDF to create locations variable\n",
    "locations = itineraryDF[[\"Lat\", \"Lng\"]]\n",
    "fig = gmaps.figure(center=(30.0,31.0), zoom_level=1.5)\n",
    "#use tuples as lat,lng pairs \n",
    "travelRoute = gmaps.directions_layer(city1, city4, waypoints=[city2,city3], travel_mode='DRIVING', show_markers=False)\n",
    "marker_layer = gmaps.marker_layer(locations, info_box_content=hotel_info)\n",
    "\n",
    "fig.add_layer(travelRoute)\n",
    "fig.add_layer(marker_layer)\n",
    "fig"
   ]
  },
  {
   "cell_type": "code",
   "execution_count": null,
   "metadata": {},
   "outputs": [],
   "source": []
  },
  {
   "cell_type": "code",
   "execution_count": null,
   "metadata": {},
   "outputs": [],
   "source": []
  }
 ],
 "metadata": {
  "kernelspec": {
   "display_name": "PythonData",
   "language": "python",
   "name": "pythondata"
  },
  "language_info": {
   "codemirror_mode": {
    "name": "ipython",
    "version": 3
   },
   "file_extension": ".py",
   "mimetype": "text/x-python",
   "name": "python",
   "nbconvert_exporter": "python",
   "pygments_lexer": "ipython3",
   "version": "3.7.7"
  }
 },
 "nbformat": 4,
 "nbformat_minor": 4
}
